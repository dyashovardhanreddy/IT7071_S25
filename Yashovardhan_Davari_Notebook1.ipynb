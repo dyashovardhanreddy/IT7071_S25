{
  "nbformat": 4,
  "nbformat_minor": 0,
  "metadata": {
    "colab": {
      "provenance": []
    },
    "kernelspec": {
      "name": "python3",
      "display_name": "Python 3"
    },
    "language_info": {
      "name": "python"
    }
  },
  "cells": [
    {
      "cell_type": "code",
      "execution_count": 2,
      "metadata": {
        "id": "oN62x2BlccIY"
      },
      "outputs": [],
      "source": [
        "import math\n",
        "def isPrime(n):\n",
        "  if n <=1:\n",
        "    return False\n",
        "  for i in range(2, int(math.sqrt(n)) + 1):\n",
        "    if n % i == 0:\n",
        "      return False\n",
        "  return True"
      ]
    },
    {
      "cell_type": "code",
      "source": [
        "# The isPrime(n) function checks whether a given number n is a prime number or not\n",
        "# Prime numbers are greater than 1. If n is less than or equal to 1, it immediately returns False\n",
        "# The loop iterates from 2 to the square root of n + 1 , as if n has a factor\n",
        "# larger than its square root, there must also be a smaller factor within this range.\n",
        "# For every number i in this range, it checks if n is divisible by i. If so, the function\n",
        "# returns False, meaning n is not a prime number.\n",
        "# If no divisors are found during the loop, the function concludes that n is a prime number\n",
        "# and returns True."
      ],
      "metadata": {
        "id": "uArwEHzDetU5"
      },
      "execution_count": 3,
      "outputs": []
    },
    {
      "cell_type": "code",
      "source": [
        "def checkIfPrime(n, prime_numbers):\n",
        "  sqrt_number = int(math.sqrt(n)) + 1\n",
        "  for prime_number in prime_numbers:\n",
        "    if(prime_number > sqrt_number):\n",
        "      break # If prime_number greater than square root of number, break the loop\n",
        "    if(n % prime_number == 0):\n",
        "      return False\n",
        "  return True"
      ],
      "metadata": {
        "id": "cJ2ubmPRDOhj"
      },
      "execution_count": 4,
      "outputs": []
    },
    {
      "cell_type": "code",
      "source": [
        "def getNthPrimeNumber(n):\n",
        "  prime_numbers = []\n",
        "  num = 2\n",
        "  while len(prime_numbers) != n:\n",
        "    if len(prime_numbers) == 0:\n",
        "      if isPrime(num):\n",
        "        prime_numbers.append(num)\n",
        "    else:\n",
        "      if checkIfPrime(num, prime_numbers):\n",
        "        prime_numbers.append(num)\n",
        "    num+=1\n",
        "  return prime_numbers[-1]"
      ],
      "metadata": {
        "id": "vZHek-g1_6Uh"
      },
      "execution_count": 5,
      "outputs": []
    },
    {
      "cell_type": "code",
      "source": [
        "# Code added to find 9991st to 10000th prime numbers\n",
        "prime_numbers = []  # list to store prime number\n",
        "num = 2  # Starting number to check primes\n",
        "nth_prime = 1  # Counter for tracking the nth prime\n",
        "\n",
        "while nth_prime <= 10000:\n",
        "    if checkIfPrime(num, prime_numbers):\n",
        "        if nth_prime >= 9991:\n",
        "            prime_numbers.append(num)  # Add primes within the desired range to the list i.e. prime numbers between 9991 to 10000\n",
        "        nth_prime += 1\n",
        "    num += 1\n",
        "\n",
        "# Displaying prime numbers\n",
        "print(\"9991st to 10000th prime numbers are:\", prime_numbers)\n",
        "\n",
        "# Output the numbers to a data file called prime.txt\n",
        "with open(\"prime.txt\", \"w\") as file:\n",
        "    file.write(\"\\n\".join(map(str, prime_numbers)))\n"
      ],
      "metadata": {
        "colab": {
          "base_uri": "https://localhost:8080/",
          "height": 0
        },
        "id": "WCu38T1NAsCB",
        "outputId": "c0669e1c-4249-49ac-88ea-efd2f32d1cb5"
      },
      "execution_count": 10,
      "outputs": [
        {
          "output_type": "stream",
          "name": "stdout",
          "text": [
            "9991st to 10000th prime numbers are: [9992, 9993, 9994, 9995, 9996, 9997, 9998, 9999, 10000, 10001]\n"
          ]
        }
      ]
    }
  ]
}